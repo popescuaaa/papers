{
 "cells": [
  {
   "cell_type": "markdown",
   "id": "6a5c7cf1",
   "metadata": {},
   "source": [
    "### Missing labels classification\n",
    "\n",
    "This is a small exploratory study on the avaiable methods to solve the missing label classification problem."
   ]
  },
  {
   "cell_type": "code",
   "id": "5a397057",
   "metadata": {
    "ExecuteTime": {
     "end_time": "2024-05-05T14:59:55.240764Z",
     "start_time": "2024-05-05T14:59:55.225106Z"
    }
   },
   "source": [
    "import numpy as np\n",
    "import matplotlib.pyplot as plt\n",
    "import os\n",
    "import torch\n",
    "import random\n",
    "import torch.nn as nn\n",
    "import torchvision as tv\n",
    "import torchvision.datasets as tvd\n",
    "import torchvision.transforms as transforms\n",
    "from torch.utils.data import DataLoader\n",
    "\n",
    "from typing import Union"
   ],
   "outputs": [],
   "execution_count": 6
  },
  {
   "cell_type": "markdown",
   "id": "5883449a",
   "metadata": {},
   "source": [
    "#### Additional global variables"
   ]
  },
  {
   "cell_type": "code",
   "id": "b4e2e6a1",
   "metadata": {
    "ExecuteTime": {
     "end_time": "2024-05-05T15:00:08.961898Z",
     "start_time": "2024-05-05T15:00:08.946275Z"
    }
   },
   "source": [
    "device = torch.device('cuda' if torch.cuda.is_available() else 'cpu')\n",
    "print(f'Device: {device}')\n",
    "seed = 42\n",
    "random.seed(seed)\n",
    "os.environ['PYTHONHASHSEED'] = str(seed)\n",
    "torch.manual_seed(seed)\n",
    "torch.cuda.manual_seed(seed)\n",
    "torch.backends.cudnn.deterministic = True"
   ],
   "outputs": [
    {
     "name": "stdout",
     "output_type": "stream",
     "text": [
      "Device: cuda\n"
     ]
    }
   ],
   "execution_count": 8
  },
  {
   "cell_type": "markdown",
   "id": "c2be8a00",
   "metadata": {},
   "source": [
    "####  Problem statement\n",
    "\n",
    "Let's consider the following scenario: an image dataset was processed before using the following transformations. From this we have access only to $30%$ of the labeled data, the others does not have any labels. Predict the test partition using only this restricted info about the data. "
   ]
  },
  {
   "cell_type": "code",
   "id": "c22477f8",
   "metadata": {
    "ExecuteTime": {
     "end_time": "2024-05-05T15:01:08.207925Z",
     "start_time": "2024-05-05T15:01:08.192025Z"
    }
   },
   "source": [
    "transform = transforms.Compose([\n",
    "    transforms.ToTensor(),\n",
    "    transforms.Normalize(mean=[0.5, 0.5, 0.5], std=[0.5, 0.5, 0.5]) # the basic transforms compositions, which will be unknown in the nest scenario    \n",
    "])"
   ],
   "outputs": [],
   "execution_count": 11
  },
  {
   "cell_type": "code",
   "id": "eba3f178",
   "metadata": {
    "ExecuteTime": {
     "end_time": "2024-05-05T15:01:09.712763Z",
     "start_time": "2024-05-05T15:01:08.852343Z"
    }
   },
   "source": [
    "dataset = tvd.CIFAR10(root=\"./data/cifar\", download=True, transform=transform)"
   ],
   "outputs": [
    {
     "name": "stdout",
     "output_type": "stream",
     "text": [
      "Files already downloaded and verified\n"
     ]
    }
   ],
   "execution_count": 12
  },
  {
   "cell_type": "code",
   "id": "ae507e6a",
   "metadata": {
    "ExecuteTime": {
     "end_time": "2024-05-05T15:01:40.897775Z",
     "start_time": "2024-05-05T15:01:11.090369Z"
    }
   },
   "source": [
    "test_dataset = tvd.CIFAR10(root=\"./data/cifar-test\", download=True, transform=transform, train=False)"
   ],
   "outputs": [
    {
     "name": "stdout",
     "output_type": "stream",
     "text": [
      "Downloading https://www.cs.toronto.edu/~kriz/cifar-10-python.tar.gz to ./data/cifar-test\\cifar-10-python.tar.gz\n"
     ]
    },
    {
     "name": "stderr",
     "output_type": "stream",
     "text": [
      "100%|██████████| 170498071/170498071 [00:27<00:00, 6283683.18it/s] \n"
     ]
    },
    {
     "name": "stdout",
     "output_type": "stream",
     "text": [
      "Extracting ./data/cifar-test\\cifar-10-python.tar.gz to ./data/cifar-test\n"
     ]
    }
   ],
   "execution_count": 13
  },
  {
   "cell_type": "code",
   "id": "c37fcebd",
   "metadata": {
    "ExecuteTime": {
     "end_time": "2024-05-05T15:01:43.956491Z",
     "start_time": "2024-05-05T15:01:43.925228Z"
    }
   },
   "source": [
    "classes = ('plane', 'car', 'bird', 'cat', 'deer', 'dog', 'frog', 'horse', 'ship', 'truck')"
   ],
   "outputs": [],
   "execution_count": 14
  },
  {
   "cell_type": "code",
   "id": "dd172729",
   "metadata": {
    "ExecuteTime": {
     "end_time": "2024-05-05T15:01:44.710457Z",
     "start_time": "2024-05-05T15:01:44.639077Z"
    }
   },
   "source": [
    "# Reduce the number of points in the train dataset to 3000\n",
    "train_dataset = dataset\n",
    "train_dataset[0][0].shape"
   ],
   "outputs": [
    {
     "data": {
      "text/plain": [
       "torch.Size([3, 32, 32])"
      ]
     },
     "execution_count": 15,
     "metadata": {},
     "output_type": "execute_result"
    }
   ],
   "execution_count": 15
  },
  {
   "cell_type": "code",
   "id": "dabe03a1",
   "metadata": {
    "ExecuteTime": {
     "end_time": "2024-05-05T15:01:47.008335Z",
     "start_time": "2024-05-05T15:01:46.992693Z"
    }
   },
   "source": [
    "def show(img: Union[np.ndarray, torch.Tensor], ax: plt.Axes = None, label: int = None):\n",
    "    if type(img) == torch.Tensor:\n",
    "        npimg = img.cpu().numpy()\n",
    "    else:\n",
    "        npimg = img\n",
    "    if ax is None:\n",
    "        ax = plt\n",
    "    else:\n",
    "        ax.set_title(f\"Label: {label}\")\n",
    "    \n",
    "    ax.imshow(np.transpose(npimg, (1, 2, 0)), interpolation='nearest')    "
   ],
   "outputs": [],
   "execution_count": 16
  },
  {
   "cell_type": "code",
   "id": "9f2a763a",
   "metadata": {
    "ExecuteTime": {
     "end_time": "2024-05-05T15:02:01.909363Z",
     "start_time": "2024-05-05T15:02:01.161400Z"
    }
   },
   "source": [
    "fig, ax = plt.subplots(1, 5, figsize=(15, 3))\n",
    "for i in range(5):\n",
    "    show(img=train_dataset[i][0], ax=ax[i], label=classes[train_dataset[i][1]])"
   ],
   "outputs": [
    {
     "name": "stderr",
     "output_type": "stream",
     "text": [
      "Clipping input data to the valid range for imshow with RGB data ([0..1] for floats or [0..255] for integers).\n",
      "Clipping input data to the valid range for imshow with RGB data ([0..1] for floats or [0..255] for integers).\n",
      "Clipping input data to the valid range for imshow with RGB data ([0..1] for floats or [0..255] for integers).\n",
      "Clipping input data to the valid range for imshow with RGB data ([0..1] for floats or [0..255] for integers).\n",
      "Clipping input data to the valid range for imshow with RGB data ([0..1] for floats or [0..255] for integers).\n"
     ]
    },
    {
     "data": {
      "text/plain": [
       "<Figure size 1500x300 with 5 Axes>"
      ],
      "image/png": "[encoded data removed]"
     },
     "metadata": {},
     "output_type": "display_data"
    }
   ],
   "execution_count": 18
  },
  {
   "cell_type": "markdown",
   "id": "7750c5f2",
   "metadata": {},
   "source": [
    "### Model"
   ]
  },
  {
   "cell_type": "code",
   "id": "6db08169",
   "metadata": {
    "ExecuteTime": {
     "end_time": "2024-05-05T15:14:42.914204Z",
     "start_time": "2024-05-05T15:14:42.205246Z"
    }
   },
   "source": [
    "model = tv.models.resnet50(weights=tv.models.ResNet50_Weights.DEFAULT)\n",
    "\n",
    "for param in model.parameters():\n",
    "    param.requires_grad = False   \n",
    "\n",
    "model.fc = nn.Sequential(\n",
    "    nn.Flatten(),\n",
    "    nn.Linear(2048, 64),\n",
    "    nn.ReLU(),\n",
    "    nn.Dropout(0.2),\n",
    "    nn.Linear(64, 10),\n",
    "    nn.Sigmoid()\n",
    ")\n",
    "\n",
    "model = model.to(device)"
   ],
   "outputs": [],
   "execution_count": 28
  },
  {
   "cell_type": "code",
   "id": "aa15533e",
   "metadata": {
    "ExecuteTime": {
     "end_time": "2024-05-05T15:14:46.536054Z",
     "start_time": "2024-05-05T15:14:46.525032Z"
    }
   },
   "source": [
    "batch_size = 16\n",
    "epochs = 10\n",
    "lr = 0.01\n",
    "momentum = 0.9\n",
    "\n",
    "dl = DataLoader(dataset=train_dataset, shuffle=True, batch_size=batch_size)\n",
    "criterion = nn.BCELoss().to(device)\n",
    "optimizer = torch.optim.SGD(model.parameters(), lr=lr)"
   ],
   "outputs": [],
   "execution_count": 29
  },
  {
   "cell_type": "code",
   "id": "75c51675",
   "metadata": {
    "ExecuteTime": {
     "end_time": "2024-05-05T15:14:49.996359Z",
     "start_time": "2024-05-05T15:14:49.347222Z"
    }
   },
   "source": [
    "for epoch in range(epochs):\n",
    "    for idx, data in enumerate(dl):\n",
    "        imgs, labels = data\n",
    "\n",
    "        labels = labels.view(-1, 1).float()\n",
    "        labels = labels.repeat([1, len(classes)])\n",
    "        \n",
    "        imgs = imgs.to(device)\n",
    "        labels = labels.to(device)\n",
    "        \n",
    "        optimizer.zero_grad() # clear\n",
    "\n",
    "        prediction = model(imgs)\n",
    "        \n",
    "        batch_loss = criterion(prediction, labels)\n",
    "        \n",
    "        batch_loss.backward() # fill\n",
    "        optimizer.step() # use\n",
    "        \n",
    "        # Also, it works the same for {clear}, fill, use, {clear}\n",
    "\n",
    "        if idx == len(data):\n",
    "            print(f\"Epoch: {epoch} Loss: {batch_loss.item():.4f}\")"
   ],
   "outputs": [
    {
     "ename": "RuntimeError",
     "evalue": "CUDA error: device-side assert triggered\nCUDA kernel errors might be asynchronously reported at some other API call, so the stacktrace below might be incorrect.\nFor debugging consider passing CUDA_LAUNCH_BLOCKING=1.\nCompile with `TORCH_USE_CUDA_DSA` to enable device-side assertions.\n",
     "output_type": "error",
     "traceback": [
      "\u001B[1;31m---------------------------------------------------------------------------\u001B[0m",
      "\u001B[1;31mRuntimeError\u001B[0m                              Traceback (most recent call last)",
      "Cell \u001B[1;32mIn[30], line 8\u001B[0m\n\u001B[0;32m      5\u001B[0m labels \u001B[38;5;241m=\u001B[39m labels\u001B[38;5;241m.\u001B[39mview(\u001B[38;5;241m-\u001B[39m\u001B[38;5;241m1\u001B[39m, \u001B[38;5;241m1\u001B[39m)\u001B[38;5;241m.\u001B[39mfloat()\n\u001B[0;32m      6\u001B[0m labels \u001B[38;5;241m=\u001B[39m labels\u001B[38;5;241m.\u001B[39mrepeat([\u001B[38;5;241m1\u001B[39m, \u001B[38;5;28mlen\u001B[39m(classes)])\n\u001B[1;32m----> 8\u001B[0m imgs \u001B[38;5;241m=\u001B[39m \u001B[43mimgs\u001B[49m\u001B[38;5;241;43m.\u001B[39;49m\u001B[43mto\u001B[49m\u001B[43m(\u001B[49m\u001B[43mdevice\u001B[49m\u001B[43m)\u001B[49m\n\u001B[0;32m      9\u001B[0m labels \u001B[38;5;241m=\u001B[39m labels\u001B[38;5;241m.\u001B[39mto(device)\n\u001B[0;32m     11\u001B[0m optimizer\u001B[38;5;241m.\u001B[39mzero_grad() \u001B[38;5;66;03m# clear\u001B[39;00m\n",
      "\u001B[1;31mRuntimeError\u001B[0m: CUDA error: device-side assert triggered\nCUDA kernel errors might be asynchronously reported at some other API call, so the stacktrace below might be incorrect.\nFor debugging consider passing CUDA_LAUNCH_BLOCKING=1.\nCompile with `TORCH_USE_CUDA_DSA` to enable device-side assertions.\n"
     ]
    }
   ],
   "execution_count": 30
  },
  {
   "cell_type": "code",
   "id": "62d8b785",
   "metadata": {
    "ExecuteTime": {
     "end_time": "2024-05-05T15:12:37.900030Z",
     "start_time": "2024-05-05T15:12:37.620121Z"
    }
   },
   "source": [
    "# save the current state of the models\n",
    "if not os.path.exists(\"./models\"):\n",
    "    os.mkdir(\"./models\")\n",
    "\n",
    "torch.save(model.state_dict(), f\"./models/resnet50_{epochs}_{lr}.pt\")"
   ],
   "outputs": [],
   "execution_count": 24
  },
  {
   "cell_type": "code",
   "id": "51e99a73",
   "metadata": {
    "ExecuteTime": {
     "end_time": "2024-05-05T15:12:41.992768Z",
     "start_time": "2024-05-05T15:12:41.984734Z"
    }
   },
   "source": [
    "test_dl = DataLoader(dataset=test_dataset, shuffle=True, batch_size=32)"
   ],
   "outputs": [],
   "execution_count": 25
  },
  {
   "cell_type": "code",
   "id": "071adba2",
   "metadata": {
    "ExecuteTime": {
     "end_time": "2024-05-05T15:13:31.948405Z",
     "start_time": "2024-05-05T15:13:25.486318Z"
    }
   },
   "source": [
    "correct = 0\n",
    "total = 0\n",
    "with torch.no_grad():\n",
    "    for data in test_dl:\n",
    "        images, labels = data\n",
    "        \n",
    "        labels = labels.float()\n",
    "        images = images.to(device)\n",
    "        labels = labels.to(device)\n",
    "        \n",
    "        # calculate outputs by running images through the network\n",
    "        outputs = model(images)\n",
    "        # the class with the highest energy is what we choose as prediction\n",
    "        _, predicted = torch.max(outputs, 1)\n",
    "   \n",
    "        total += labels.size(0)\n",
    "        correct += (predicted == labels).sum().item()\n",
    "\n",
    "print(f'Accuracy of the network on the {len(test_dl)} test images: {correct // total} %')\n"
   ],
   "outputs": [
    {
     "name": "stdout",
     "output_type": "stream",
     "text": [
      "Accuracy of the network on the 313 test images: 0 %\n"
     ]
    }
   ],
   "execution_count": 27
  },
  {
   "cell_type": "markdown",
   "id": "03b96a9a",
   "metadata": {},
   "source": [
    "### Data tweaks"
   ]
  },
  {
   "cell_type": "code",
   "execution_count": null,
   "id": "5b698299",
   "metadata": {},
   "outputs": [],
   "source": []
  },
  {
   "cell_type": "markdown",
   "id": "e6920e90",
   "metadata": {},
   "source": []
  }
 ],
 "metadata": {
  "kernelspec": {
   "display_name": "Python 3 (ipykernel)",
   "language": "python",
   "name": "python3"
  },
  "language_info": {
   "codemirror_mode": {
    "name": "ipython",
    "version": 3
   },
   "file_extension": ".py",
   "mimetype": "text/x-python",
   "name": "python",
   "nbconvert_exporter": "python",
   "pygments_lexer": "ipython3",
   "version": "3.10.12"
  }
 },
 "nbformat": 4,
 "nbformat_minor": 5
}
