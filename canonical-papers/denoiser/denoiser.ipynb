{
 "cells": [
  {
   "cell_type": "markdown",
   "id": "e08c906f",
   "metadata": {},
   "source": [
    "### Denoiser\n",
    "\n",
    "1. Purpose\n",
    "\n",
    "- Cleaning audio files, on the fly, to enhace the quality of the ASR process\n",
    "\n",
    "2. What this should be: a very efficient network architecture, trained on random audio sources + garbage noise 🐳\n",
    "\n",
    "\n",
    "The problem is modeled as a classical transfer learning problem:\n",
    "```latex\n",
    "\\math{X} - generated dataset \n",
    "\\math{Y} - real audio data\n",
    "```"
   ]
  },
  {
   "cell_type": "code",
   "execution_count": 1,
   "id": "e41b0e22",
   "metadata": {},
   "outputs": [
    {
     "name": "stdout",
     "output_type": "stream",
     "text": [
      "Collecting torchaudio\n",
      "  Downloading torchaudio-0.10.2-cp36-cp36m-macosx_10_9_x86_64.whl (2.4 MB)\n",
      "\u001b[K     |████████████████████████████████| 2.4 MB 1.8 MB/s eta 0:00:01\n",
      "\u001b[?25hCollecting torch==1.10.2\n",
      "  Downloading torch-1.10.2-cp36-none-macosx_10_9_x86_64.whl (147.1 MB)\n",
      "\u001b[K     |████████████████████████████████| 147.1 MB 53 kB/s  eta 0:00:01     |██████▎                         | 28.9 MB 8.1 MB/s eta 0:00:15     |███████████▏                    | 51.5 MB 9.1 MB/s eta 0:00:11     |█████████████████▌              | 80.7 MB 9.0 MB/s eta 0:00:08\n",
      "\u001b[?25hRequirement already satisfied: typing-extensions in /Users/andreipopescu/opt/anaconda3/envs/ml-course/lib/python3.6/site-packages (from torch==1.10.2->torchaudio) (3.7.4.3)\n",
      "Collecting dataclasses\n",
      "  Using cached dataclasses-0.8-py3-none-any.whl (19 kB)\n",
      "Installing collected packages: dataclasses, torch, torchaudio\n",
      "Successfully installed dataclasses-0.8 torch-1.10.2 torchaudio-0.10.2\n"
     ]
    }
   ],
   "source": [
    "!pip install torchaudio"
   ]
  },
  {
   "cell_type": "code",
   "execution_count": 7,
   "id": "09fa0197",
   "metadata": {},
   "outputs": [
    {
     "name": "stdout",
     "output_type": "stream",
     "text": [
      "Currently running on: cpu\n",
      "Current audio backends: ['soundfile', 'sox_io']\n"
     ]
    }
   ],
   "source": [
    "import os\n",
    "\n",
    "import torch\n",
    "import torchaudio\n",
    "import numpy as np\n",
    "\n",
    "device = \"cuda\" if torch.cuda.is_available() else \"cpu\"\n",
    "\n",
    "print(f\"Currently running on: {device}\")\n",
    "print(f\"Current audio backends: {torchaudio.list_audio_backends()}\")"
   ]
  },
  {
   "cell_type": "markdown",
   "id": "3045682f",
   "metadata": {},
   "source": [
    "### The main source for this playground will be common voice"
   ]
  },
  {
   "cell_type": "code",
   "execution_count": 11,
   "id": "ab76345a",
   "metadata": {},
   "outputs": [
    {
     "ename": "StopIteration",
     "evalue": "",
     "output_type": "error",
     "traceback": [
      "\u001b[0;31m---------------------------------------------------------------------------\u001b[0m",
      "\u001b[0;31mStopIteration\u001b[0m                             Traceback (most recent call last)",
      "\u001b[0;32m<ipython-input-11-48370be9ab68>\u001b[0m in \u001b[0;36m<module>\u001b[0;34m\u001b[0m\n\u001b[1;32m      8\u001b[0m dataset = torchaudio.datasets.COMMONVOICE(\n\u001b[1;32m      9\u001b[0m     \u001b[0mroot\u001b[0m\u001b[0;34m=\u001b[0m\u001b[0;34m\"./commonvoice\"\u001b[0m\u001b[0;34m,\u001b[0m\u001b[0;34m\u001b[0m\u001b[0;34m\u001b[0m\u001b[0m\n\u001b[0;32m---> 10\u001b[0;31m     \u001b[0mtsv\u001b[0m \u001b[0;34m=\u001b[0m \u001b[0;34m\"train.tsv\"\u001b[0m\u001b[0;34m\u001b[0m\u001b[0;34m\u001b[0m\u001b[0m\n\u001b[0m\u001b[1;32m     11\u001b[0m )\n",
      "\u001b[0;32m~/opt/anaconda3/envs/ml-course/lib/python3.6/site-packages/torchaudio/datasets/commonvoice.py\u001b[0m in \u001b[0;36m__init__\u001b[0;34m(self, root, tsv)\u001b[0m\n\u001b[1;32m     56\u001b[0m         \u001b[0;32mwith\u001b[0m \u001b[0mopen\u001b[0m\u001b[0;34m(\u001b[0m\u001b[0mself\u001b[0m\u001b[0;34m.\u001b[0m\u001b[0m_tsv\u001b[0m\u001b[0;34m,\u001b[0m \u001b[0;34m\"r\"\u001b[0m\u001b[0;34m)\u001b[0m \u001b[0;32mas\u001b[0m \u001b[0mtsv_\u001b[0m\u001b[0;34m:\u001b[0m\u001b[0;34m\u001b[0m\u001b[0;34m\u001b[0m\u001b[0m\n\u001b[1;32m     57\u001b[0m             \u001b[0mwalker\u001b[0m \u001b[0;34m=\u001b[0m \u001b[0mcsv\u001b[0m\u001b[0;34m.\u001b[0m\u001b[0mreader\u001b[0m\u001b[0;34m(\u001b[0m\u001b[0mtsv_\u001b[0m\u001b[0;34m,\u001b[0m \u001b[0mdelimiter\u001b[0m\u001b[0;34m=\u001b[0m\u001b[0;34m\"\\t\"\u001b[0m\u001b[0;34m)\u001b[0m\u001b[0;34m\u001b[0m\u001b[0;34m\u001b[0m\u001b[0m\n\u001b[0;32m---> 58\u001b[0;31m             \u001b[0mself\u001b[0m\u001b[0;34m.\u001b[0m\u001b[0m_header\u001b[0m \u001b[0;34m=\u001b[0m \u001b[0mnext\u001b[0m\u001b[0;34m(\u001b[0m\u001b[0mwalker\u001b[0m\u001b[0;34m)\u001b[0m\u001b[0;34m\u001b[0m\u001b[0;34m\u001b[0m\u001b[0m\n\u001b[0m\u001b[1;32m     59\u001b[0m             \u001b[0mself\u001b[0m\u001b[0;34m.\u001b[0m\u001b[0m_walker\u001b[0m \u001b[0;34m=\u001b[0m \u001b[0mlist\u001b[0m\u001b[0;34m(\u001b[0m\u001b[0mwalker\u001b[0m\u001b[0;34m)\u001b[0m\u001b[0;34m\u001b[0m\u001b[0;34m\u001b[0m\u001b[0m\n\u001b[1;32m     60\u001b[0m \u001b[0;34m\u001b[0m\u001b[0m\n",
      "\u001b[0;31mStopIteration\u001b[0m: "
     ]
    }
   ],
   "source": [
    "if not os.path.exists(\"commonvoice\"):\n",
    "    os.mkdir(\"commonvoice\")\n",
    "\n",
    "if not os.path.exists(\"./commonvoice/train.tsv\"):\n",
    "    f = open(\"./commonvoice/train.tsv\", \"w\")\n",
    "    f.close()\n",
    "\n",
    "dataset = torchaudio.datasets.COMMONVOICE(\n",
    "    root=\"./commonvoice\",\n",
    "    tsv = \"train.tsv\"\n",
    ")"
   ]
  },
  {
   "cell_type": "code",
   "execution_count": null,
   "id": "cdbd687a",
   "metadata": {},
   "outputs": [],
   "source": []
  }
 ],
 "metadata": {
  "kernelspec": {
   "display_name": "Python 3",
   "language": "python",
   "name": "python3"
  },
  "language_info": {
   "codemirror_mode": {
    "name": "ipython",
    "version": 3
   },
   "file_extension": ".py",
   "mimetype": "text/x-python",
   "name": "python",
   "nbconvert_exporter": "python",
   "pygments_lexer": "ipython3",
   "version": "3.6.13"
  }
 },
 "nbformat": 4,
 "nbformat_minor": 5
}
